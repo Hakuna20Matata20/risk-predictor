{
 "cells": [
  {
   "cell_type": "markdown",
   "id": "518bbcd8-a0fe-45bd-8c8c-c0c52be51494",
   "metadata": {
    "collapsed": true,
    "jupyter": {
     "outputs_hidden": true
    }
   },
   "source": [
    "У цьому ноутбуці ми:\n",
    "1. Завантажимо синтетичний датасет.\n",
    "2. Оглянемо форми та базові статистики.\n",
    "3. Побудуємо гістограми та розподіли.\n",
    "4. Подивимося на баланс цільової змінної.\n",
    "5. Проаналізуємо кореляцію між фічами.\n"
   ]
  },
  {
   "cell_type": "code",
   "execution_count": null,
   "id": "6c335cf5-3a27-4883-98ee-3e29d805af6b",
   "metadata": {},
   "outputs": [],
   "source": [
    "import pandas as pd\n",
    "import numpy as np\n",
    "import matplotlib.pyplot as plt\n",
    "\n",
    "%matplotlib inline\n"
   ]
  },
  {
   "cell_type": "code",
   "execution_count": null,
   "id": "2428032f-a155-4b7d-8265-50ec130404cf",
   "metadata": {},
   "outputs": [],
   "source": [
    "DATA_PATH = \"../data/synthetic_data.csv\"\n",
    "\n",
    "df = pd.read_csv(DATA_PATH)\n"
   ]
  },
  {
   "cell_type": "code",
   "execution_count": null,
   "id": "a5ea1370-af94-4653-8ae3-91e0cd17d9f1",
   "metadata": {},
   "outputs": [],
   "source": [
    "df.head(10)"
   ]
  },
  {
   "cell_type": "code",
   "execution_count": null,
   "id": "b1bcb71e-18f0-4784-ae53-5a534665e731",
   "metadata": {},
   "outputs": [],
   "source": [
    "print(\"Shape:\", df.shape)\n",
    "print(\"\\nData types:\\n\", df.dtypes)"
   ]
  },
  {
   "cell_type": "code",
   "execution_count": null,
   "id": "32d7c93d-20c0-4a7b-81da-c81b32fbee04",
   "metadata": {},
   "outputs": [],
   "source": [
    "df.describe(include=\"all\").T"
   ]
  },
  {
   "cell_type": "code",
   "execution_count": null,
   "id": "5b5206d9-a70c-433f-bb1a-536ec7856d90",
   "metadata": {},
   "outputs": [],
   "source": [
    "count = df[\"risk\"].value_counts()\n",
    "pct = df[\"risk\"].value_counts(normalize=True) * 100\n",
    "display(pd.DataFrame({\"count\": count, \"percent\": pct}))"
   ]
  },
  {
   "cell_type": "code",
   "execution_count": null,
   "id": "516661d5-099e-4970-9dd9-4d78f44693c9",
   "metadata": {},
   "outputs": [],
   "source": [
    "numeric_cols = [\"team_experience\", \"budget\", \"tasks_count\", \"changes_count\"]\n",
    "fig, axes = plt.subplots(nrows=2, ncols=2, figsize=(12,8))\n",
    "axes = axes.flatten()\n",
    "for idx, col in enumerate(numeric_cols):\n",
    "    df[col].hist(ax=axes[idx])\n",
    "    axes[idx].set_title(col)\n",
    "    axes[idx].set_xlabel(\"\")\n",
    "plt.tight_layout()\n",
    "plt.show()"
   ]
  },
  {
   "cell_type": "code",
   "execution_count": null,
   "id": "44d01568-b33a-42cd-8dea-63093c945c93",
   "metadata": {},
   "outputs": [],
   "source": [
    "df[\"project_size\"].value_counts().plot(kind=\"bar\")\n",
    "plt.title(\"Project size distribution\")\n",
    "plt.ylabel(\"Count\")\n",
    "plt.show()"
   ]
  },
  {
   "cell_type": "code",
   "execution_count": null,
   "id": "7ae2a163-f8c5-49e0-ae1a-c3f6af84e808",
   "metadata": {},
   "outputs": [],
   "source": [
    "corr = df[numeric_cols + [\"risk\"]].corr()\n",
    "plt.figure(figsize=(6,5))\n",
    "plt.imshow(corr, cmap=\"coolwarm\", interpolation=\"none\", aspect=\"auto\")\n",
    "plt.colorbar()\n",
    "plt.xticks(range(len(corr)), corr.columns, rotation=45)\n",
    "plt.yticks(range(len(corr)), corr.index)\n",
    "plt.title(\"Correlation matrix\")\n",
    "plt.show()"
   ]
  }
 ],
 "metadata": {
  "kernelspec": {
   "display_name": "Python 3 (ipykernel)",
   "language": "python",
   "name": "python3"
  },
  "language_info": {
   "codemirror_mode": {
    "name": "ipython",
    "version": 3
   },
   "file_extension": ".py",
   "mimetype": "text/x-python",
   "name": "python",
   "nbconvert_exporter": "python",
   "pygments_lexer": "ipython3",
   "version": "3.13.5"
  }
 },
 "nbformat": 4,
 "nbformat_minor": 5
}
